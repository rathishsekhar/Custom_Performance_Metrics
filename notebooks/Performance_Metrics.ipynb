{
 "cells": [
  {
   "cell_type": "markdown",
   "metadata": {
    "id": "s0Ej_bXyQvnV"
   },
   "source": [
    "# Custom Performance Metrics Implementation\n",
    "\n",
    "In the following notebook, we will develop code to create custom metrics equivalent to the confusion matrix, F1 score, area under the curve, accuracy score, mean square error, MAPE, and R-squared error. This will help us gain a deeper understanding of these metrics, following a similar approach to how scikit-learn implements them using the sklearn.metrics module. We will apply these custom metrics to four self-generated binary-classification datasets.\n",
    "\n",
    "For detailed definitions, data specifics, and a comprehensive explanation of the code activities, please refer to the README document located in the same folder."
   ]
  },
  {
   "cell_type": "code",
   "execution_count": 1,
   "metadata": {
    "id": "4CHb6NE7Qvnc"
   },
   "outputs": [],
   "source": [
    "#Importing libraries\n",
    "import numpy as np\n",
    "import pandas as pd"
   ]
  },
  {
   "cell_type": "markdown",
   "metadata": {},
   "source": [
    "#### Working with dataset df_a to generate confusion matrix, F1 score, Accuracy score, Area under the curve and ROC curve"
   ]
  },
  {
   "cell_type": "code",
   "execution_count": 6,
   "metadata": {},
   "outputs": [
    {
     "name": "stdout",
     "output_type": "stream",
     "text": [
      "/Users/rathish/Documents/Data_Science_Projects/Custom_Performance_Metrics/notebooks\n"
     ]
    }
   ],
   "source": [
    "%cd --"
   ]
  },
  {
   "cell_type": "code",
   "execution_count": 16,
   "metadata": {
    "id": "WaFLW7oBQvnt"
   },
   "outputs": [
    {
     "data": {
      "text/plain": [
       "<bound method NDFrame.head of          y     proba\n",
       "0      1.0  0.637387\n",
       "1      1.0  0.635165\n",
       "2      1.0  0.766586\n",
       "3      1.0  0.724564\n",
       "4      1.0  0.889199\n",
       "...    ...       ...\n",
       "10095  1.0  0.665371\n",
       "10096  1.0  0.607961\n",
       "10097  1.0  0.777724\n",
       "10098  1.0  0.846036\n",
       "10099  1.0  0.679507\n",
       "\n",
       "[10100 rows x 2 columns]>"
      ]
     },
     "execution_count": 16,
     "metadata": {},
     "output_type": "execute_result"
    }
   ],
   "source": [
    "# Importing data:\n",
    "local = '/Users/rathish/Documents/Data_Science_Projects/Custom_Performance_Metrics/data/'\n",
    "df_a=pd.read_csv(local+'a.csv')\n",
    "df_a.head"
   ]
  },
  {
   "cell_type": "code",
   "execution_count": 8,
   "metadata": {
    "id": "yg8uUJvGAfCM"
   },
   "outputs": [
    {
     "name": "stdout",
     "output_type": "stream",
     "text": [
      "1. Confusion matrix = \n",
      " [[    0     0]\n",
      " [  100 10000]]\n",
      "\n",
      "2. F1 score = 0.9950248756218906\n",
      "\n",
      "4. Accuracy score = 0.9900990099009901\n"
     ]
    }
   ],
   "source": [
    "\n",
    "# 1.  Computing Confusion Matrix\n",
    "## Defining new column y_pred based on condition 𝑦𝑝𝑟𝑒𝑑=[0 if y_score < 0.5 else 1]\n",
    "\n",
    "df_a['y_pred'] = np.where(df_a['proba'] < 0.5, 0, 1)\n",
    "\n",
    "## Defining FP, TP, FN, TN\n",
    "def perfmeasure(df):\n",
    "    if ((df['y'] == 1) & (df['y_pred'] == 1)):\n",
    "        return \"TP\"\n",
    "    elif ((df['y'] == 0) & (df['y_pred'] == 0)):\n",
    "        return \"TN\"\n",
    "    elif ((df['y'] == 1) & (df['y_pred'] == 0)):\n",
    "        return \"FN\"\n",
    "    elif ((df['y'] == 0) & (df['y_pred'] == 1)):\n",
    "        return \"FP\"\n",
    "    else: \n",
    "        False\n",
    "df_a['perfmeasure'] = df_a.apply(perfmeasure, axis = 1)\n",
    "\n",
    "# Defining TN_count, FN_count, TP_count, FP_count\n",
    "TN_ = np.count_nonzero(df_a['perfmeasure'] == 'TN')\n",
    "FN_ = np.count_nonzero(df_a['perfmeasure'] == 'FN')\n",
    "FP_ = np.count_nonzero(df_a['perfmeasure'] == 'FP')\n",
    "TP_ = np.count_nonzero(df_a['perfmeasure'] == 'TP')\n",
    "\n",
    "# Confusion matrix\n",
    "confusionmatrix = np.array([TN_, FN_, FP_, TP_]).reshape(2,2)\n",
    "\n",
    "# Defining precision and recall\n",
    "precision = 0 if (TP_ + FP_) == 0 else TP_/(TP_ + FP_)\n",
    "recall = 0 if (TP_ + FN_) == 0 else TP_/(TP_ + FN_)\n",
    "\n",
    "# Defining F1 score:\n",
    "F1_score = 2*precision*recall/(precision + recall)\n",
    "\n",
    "# Defining Accuracy score:\n",
    "Accuracy_score = (TN_ + TP_)/(TN_ + FN_ + FP_ + TP_)\n",
    "\n",
    "# Printing solutions: \n",
    "print(\"1. Confusion matrix = \\n {}\".format(confusionmatrix))\n",
    "print(\"\\n2. F1 score = {}\".format(F1_score))\n",
    "print(\"\\n4. Accuracy score = {}\".format(Accuracy_score))"
   ]
  },
  {
   "cell_type": "code",
   "execution_count": 9,
   "metadata": {},
   "outputs": [],
   "source": [
    "# Area Under the Curve\n",
    "## Sorting data values according to probability score\n",
    "\n",
    "df_a.sort_values(by = ['proba'], ascending = False, inplace = True)\n",
    "\n",
    "tpr_lista, fpr_lista = [], []\n",
    "\n",
    "for prob in df_a['proba']:\n",
    "    df_a['y_tau'] = np.where(df_a['proba'] < prob, 0, 1)\n",
    "\n",
    "    ## Defining FP, TP, FN, TN\n",
    "    def perfmeasure(df):\n",
    "        if ((df['y'] == 1) & (df['y_tau'] == 1)):\n",
    "            return \"TP\"\n",
    "        elif ((df['y'] == 0) & (df['y_tau'] == 0)):\n",
    "            return \"TN\"\n",
    "        elif ((df['y'] == 1) & (df['y_tau'] == 0)):\n",
    "            return \"FN\"\n",
    "        elif ((df['y'] == 0) & (df['y_tau'] == 1)):\n",
    "            return \"FP\"\n",
    "        else: \n",
    "            False\n",
    "    df_a['perfmeasuretau'] = df_a.apply(perfmeasure, axis = 1)\n",
    "    \n",
    "    # Defining TN_count, FN_count, TP_count, FP_count\n",
    "    TN_ = np.count_nonzero(df_a['perfmeasuretau'] == 'TN')\n",
    "    FN_ = np.count_nonzero(df_a['perfmeasuretau'] == 'FN')\n",
    "    FP_ = np.count_nonzero(df_a['perfmeasuretau'] == 'FP')\n",
    "    TP_ = np.count_nonzero(df_a['perfmeasuretau'] == 'TP')\n",
    "    \n",
    "    # Defining TPR and FPR\n",
    "    TPR = 0 if (TP_ + FN_) == 0 else TP_/(TP_ + FN_)\n",
    "    FPR = 0 if (TN_ + FP_) == 0 else FP_/(TN_ + FP_)\n",
    "    \n",
    "    # Appending TPR and FPR to corresponding empty lists\n",
    "    tpr_lista.append(TPR)\n",
    "    fpr_lista.append(FPR)\n",
    "    \n",
    "# Converting tpr_list and fpr_list into arrays:\n",
    "tpr_arraya = np.array(tpr_lista)\n",
    "fpr_arraya = np.array(fpr_lista)\n",
    "\n"
   ]
  },
  {
   "cell_type": "code",
   "execution_count": 11,
   "metadata": {},
   "outputs": [
    {
     "data": {
      "image/png": "[encoded data removed]",
      "text/plain": [
       "<Figure size 640x480 with 1 Axes>"
      ]
     },
     "metadata": {},
     "output_type": "display_data"
    },
    {
     "name": "stdout",
     "output_type": "stream",
     "text": [
      "\n",
      " 3. Area under the curve/pAUC = 0.48829900000000004\n"
     ]
    }
   ],
   "source": [
    "# 3a plotting the ROC curve\n",
    "import matplotlib.pyplot as plt\n",
    "\n",
    "plt.plot( fpr_lista, tpr_lista)\n",
    "plt.title(\"ROC Curve for df_a\")\n",
    "plt.xlabel(\"FPR\")\n",
    "plt.ylabel(\"TPR\")\n",
    "plt.show()\n",
    "\n",
    "# 3b Calculating and printing pAUC or area under the curve using np.trapz\n",
    "pAUC = np.trapz(tpr_arraya, fpr_arraya)\n",
    "print(\"\\n 3. Area under the curve/pAUC = {}\".format(pAUC))"
   ]
  },
  {
   "cell_type": "markdown",
   "metadata": {},
   "source": [
    "#### Working with dataset df_b to generate confusion matrix, F1 score, Accuracy score, Area under the curve and ROC curve"
   ]
  },
  {
   "cell_type": "code",
   "execution_count": 17,
   "metadata": {
    "id": "U2sKlq0YQvn5"
   },
   "outputs": [
    {
     "data": {
      "text/html": [
       "<div>\n",
       "<style scoped>\n",
       "    .dataframe tbody tr th:only-of-type {\n",
       "        vertical-align: middle;\n",
       "    }\n",
       "\n",
       "    .dataframe tbody tr th {\n",
       "        vertical-align: top;\n",
       "    }\n",
       "\n",
       "    .dataframe thead th {\n",
       "        text-align: right;\n",
       "    }\n",
       "</style>\n",
       "<table border=\"1\" class=\"dataframe\">\n",
       "  <thead>\n",
       "    <tr style=\"text-align: right;\">\n",
       "      <th></th>\n",
       "      <th>y</th>\n",
       "      <th>proba</th>\n",
       "    </tr>\n",
       "  </thead>\n",
       "  <tbody>\n",
       "    <tr>\n",
       "      <th>0</th>\n",
       "      <td>0.0</td>\n",
       "      <td>0.281035</td>\n",
       "    </tr>\n",
       "    <tr>\n",
       "      <th>1</th>\n",
       "      <td>0.0</td>\n",
       "      <td>0.465152</td>\n",
       "    </tr>\n",
       "    <tr>\n",
       "      <th>2</th>\n",
       "      <td>0.0</td>\n",
       "      <td>0.352793</td>\n",
       "    </tr>\n",
       "    <tr>\n",
       "      <th>3</th>\n",
       "      <td>0.0</td>\n",
       "      <td>0.157818</td>\n",
       "    </tr>\n",
       "    <tr>\n",
       "      <th>4</th>\n",
       "      <td>0.0</td>\n",
       "      <td>0.276648</td>\n",
       "    </tr>\n",
       "  </tbody>\n",
       "</table>\n",
       "</div>"
      ],
      "text/plain": [
       "     y     proba\n",
       "0  0.0  0.281035\n",
       "1  0.0  0.465152\n",
       "2  0.0  0.352793\n",
       "3  0.0  0.157818\n",
       "4  0.0  0.276648"
      ]
     },
     "execution_count": 17,
     "metadata": {},
     "output_type": "execute_result"
    }
   ],
   "source": [
    "df_b=pd.read_csv(local+'b.csv')\n",
    "df_b.head()"
   ]
  },
  {
   "cell_type": "code",
   "execution_count": 18,
   "metadata": {
    "id": "xlLVa-cVAfCS"
   },
   "outputs": [
    {
     "name": "stdout",
     "output_type": "stream",
     "text": [
      "1. Confusion matrix = \n",
      " [[9761   45]\n",
      " [ 239   55]]\n",
      "\n",
      "2. F1 score = 0.2791878172588833\n",
      "\n",
      "4. Accuracy score = 0.9718811881188119\n"
     ]
    }
   ],
   "source": [
    "# 1.  Computing Confusion Matrix\n",
    "## Defining new column y_pred based on condition 𝑦𝑝𝑟𝑒𝑑=[0 if y_score < 0.5 else 1]\n",
    "\n",
    "df_b['y_pred'] = np.where(df_b['proba'] < 0.5, 0, 1)\n",
    "\n",
    "## Defining FP, TP, FN, TN\n",
    "def perfmeasure(df):\n",
    "    if ((df['y'] == 1) & (df['y_pred'] == 1)):\n",
    "        return \"TP\"\n",
    "    elif ((df['y'] == 0) & (df['y_pred'] == 0)):\n",
    "        return \"TN\"\n",
    "    elif ((df['y'] == 1) & (df['y_pred'] == 0)):\n",
    "        return \"FN\"\n",
    "    elif ((df['y'] == 0) & (df['y_pred'] == 1)):\n",
    "        return \"FP\"\n",
    "    else: \n",
    "        False\n",
    "df_b['perfmeasure'] = df_b.apply(perfmeasure, axis = 1)\n",
    "\n",
    "# Defining TN_count, FN_count, TP_count, FP_count\n",
    "TN_ = np.count_nonzero(df_b['perfmeasure'] == 'TN')\n",
    "FN_ = np.count_nonzero(df_b['perfmeasure'] == 'FN')\n",
    "FP_ = np.count_nonzero(df_b['perfmeasure'] == 'FP')\n",
    "TP_ = np.count_nonzero(df_b['perfmeasure'] == 'TP')\n",
    "\n",
    "# Confusion matrix\n",
    "confusionmatrix = np.array([TN_, FN_, FP_, TP_]).reshape(2,2)\n",
    "\n",
    "# Defining precision and recall\n",
    "precision = 0 if (TP_ + FP_) == 0 else TP_/(TP_ + FP_)\n",
    "recall = 0 if (TP_ + FN_) == 0 else TP_/(TP_ + FN_)\n",
    "\n",
    "# Defining F1 score:\n",
    "F1_score = 2*precision*recall/(precision + recall)\n",
    "\n",
    "# Defining Accuracy score:\n",
    "Accuracy_score = (TN_ + TP_)/(TN_ + FN_ + FP_ + TP_)\n",
    "\n",
    "# Printing solutions: \n",
    "print(\"1. Confusion matrix = \\n {}\".format(confusionmatrix))\n",
    "print(\"\\n2. F1 score = {}\".format(F1_score))\n",
    "print(\"\\n4. Accuracy score = {}\".format(Accuracy_score))"
   ]
  },
  {
   "cell_type": "code",
   "execution_count": 19,
   "metadata": {},
   "outputs": [],
   "source": [
    "# Area Under the Curve\n",
    "## Sorting data values according to probability score\n",
    "\n",
    "df_b.sort_values(by = ['proba'], ascending = False, inplace = True)\n",
    "\n",
    "tpr_listb, fpr_listb = [], []\n",
    "\n",
    "for prob in df_b['proba']:\n",
    "    df_b['y_tau'] = np.where(df_b['proba'] < prob, 0, 1)\n",
    "\n",
    "    ## Defining FP, TP, FN, TN\n",
    "    def perfmeasure(df):\n",
    "        if ((df['y'] == 1) & (df['y_tau'] == 1)):\n",
    "            return \"TP\"\n",
    "        elif ((df['y'] == 0) & (df['y_tau'] == 0)):\n",
    "            return \"TN\"\n",
    "        elif ((df['y'] == 1) & (df['y_tau'] == 0)):\n",
    "            return \"FN\"\n",
    "        elif ((df['y'] == 0) & (df['y_tau'] == 1)):\n",
    "            return \"FP\"\n",
    "        else: \n",
    "            False\n",
    "    df_b['perfmeasuretau'] = df_b.apply(perfmeasure, axis = 1)\n",
    "    \n",
    "    # Defining TN_count, FN_count, TP_count, FP_count\n",
    "    TN_ = np.count_nonzero(df_b['perfmeasuretau'] == 'TN')\n",
    "    FN_ = np.count_nonzero(df_b['perfmeasuretau'] == 'FN')\n",
    "    FP_ = np.count_nonzero(df_b['perfmeasuretau'] == 'FP')\n",
    "    TP_ = np.count_nonzero(df_b['perfmeasuretau'] == 'TP')\n",
    "\n",
    "    \n",
    "    # Defining TPR and FPR\n",
    "    TPR = 0 if (TP_ + FN_) == 0 else TP_/(TP_ + FN_)\n",
    "    FPR = 0 if (TN_ + FP_) == 0 else FP_/(TN_ + FP_)\n",
    "    \n",
    "    # Appending TPR and FPR to corresponding empty lists\n",
    "    tpr_listb.append(TPR)\n",
    "    fpr_listb.append(FPR)\n",
    "    \n",
    "# Converting tpr_list and fpr_list into arrays:\n",
    "tpr_arrayb = np.array(tpr_listb)\n",
    "fpr_arrayb = np.array(fpr_listb)"
   ]
  },
  {
   "cell_type": "code",
   "execution_count": 20,
   "metadata": {},
   "outputs": [
    {
     "data": {
      "image/png": "[encoded data removed]",
      "text/plain": [
       "<Figure size 640x480 with 1 Axes>"
      ]
     },
     "metadata": {},
     "output_type": "display_data"
    },
    {
     "name": "stdout",
     "output_type": "stream",
     "text": [
      "\n",
      " 3. Area under the curve/pAUC = 0.9377570000000001\n"
     ]
    }
   ],
   "source": [
    "# 3a plotting the ROC curve\n",
    "import matplotlib.pyplot as plt\n",
    "\n",
    "plt.plot( fpr_listb, tpr_listb,)\n",
    "plt.title(\"ROC Curve for df_b\")\n",
    "plt.xlabel(\"FPR\")\n",
    "plt.ylabel(\"TPR\")\n",
    "plt.show()\n",
    "\n",
    "# 3b Calculating and printing pAUC or area under the curve using np.trapz\n",
    "pAUC = np.trapz(tpr_arrayb, fpr_arrayb)\n",
    "print(\"\\n 3. Area under the curve/pAUC = {}\".format(pAUC))"
   ]
  },
  {
   "cell_type": "markdown",
   "metadata": {},
   "source": [
    "#### Working with dataset df_c "
   ]
  },
  {
   "cell_type": "code",
   "execution_count": 24,
   "metadata": {
    "id": "x5HIJzq1QvoE"
   },
   "outputs": [
    {
     "data": {
      "text/html": [
       "<div>\n",
       "<style scoped>\n",
       "    .dataframe tbody tr th:only-of-type {\n",
       "        vertical-align: middle;\n",
       "    }\n",
       "\n",
       "    .dataframe tbody tr th {\n",
       "        vertical-align: top;\n",
       "    }\n",
       "\n",
       "    .dataframe thead th {\n",
       "        text-align: right;\n",
       "    }\n",
       "</style>\n",
       "<table border=\"1\" class=\"dataframe\">\n",
       "  <thead>\n",
       "    <tr style=\"text-align: right;\">\n",
       "      <th></th>\n",
       "      <th>y</th>\n",
       "      <th>prob</th>\n",
       "    </tr>\n",
       "  </thead>\n",
       "  <tbody>\n",
       "    <tr>\n",
       "      <th>0</th>\n",
       "      <td>0</td>\n",
       "      <td>0.458521</td>\n",
       "    </tr>\n",
       "    <tr>\n",
       "      <th>1</th>\n",
       "      <td>0</td>\n",
       "      <td>0.505037</td>\n",
       "    </tr>\n",
       "    <tr>\n",
       "      <th>2</th>\n",
       "      <td>0</td>\n",
       "      <td>0.418652</td>\n",
       "    </tr>\n",
       "    <tr>\n",
       "      <th>3</th>\n",
       "      <td>0</td>\n",
       "      <td>0.412057</td>\n",
       "    </tr>\n",
       "    <tr>\n",
       "      <th>4</th>\n",
       "      <td>0</td>\n",
       "      <td>0.375579</td>\n",
       "    </tr>\n",
       "  </tbody>\n",
       "</table>\n",
       "</div>"
      ],
      "text/plain": [
       "   y      prob\n",
       "0  0  0.458521\n",
       "1  0  0.505037\n",
       "2  0  0.418652\n",
       "3  0  0.412057\n",
       "4  0  0.375579"
      ]
     },
     "execution_count": 24,
     "metadata": {},
     "output_type": "execute_result"
    }
   ],
   "source": [
    "df_c=pd.read_csv(local + 'c.csv')\n",
    "df_c.head()"
   ]
  },
  {
   "cell_type": "code",
   "execution_count": 25,
   "metadata": {},
   "outputs": [
    {
     "name": "stdout",
     "output_type": "stream",
     "text": [
      "The best value of tau(threshold) for lowest minimum value of A is = 0.2300390278970873\n"
     ]
    }
   ],
   "source": [
    "# Area Under the Curve\n",
    "## Sorting data values according to probability score\n",
    "\n",
    "df_c.sort_values(by = ['prob'], ascending = False, inplace = True)\n",
    "\n",
    "A_vallist, Tau_list = [], []\n",
    "\n",
    "for prb in df_c['prob']:\n",
    "    df_c['y_tau'] = np.where(df_c['prob'] < prb, 0, 1)\n",
    "    \n",
    "    ## Defining FP, TP, FN, TN\n",
    "    def perfmeasure(df):\n",
    "        if ((df['y'] == 1) & (df['y_tau'] == 1)):\n",
    "            return \"TP\"\n",
    "        elif ((df['y'] == 0) & (df['y_tau'] == 0)):\n",
    "            return \"TN\"\n",
    "        elif ((df['y'] == 1) & (df['y_tau'] == 0)):\n",
    "            return \"FN\"\n",
    "        elif ((df['y'] == 0) & (df['y_tau'] == 1)):\n",
    "            return \"FP\"\n",
    "        else: \n",
    "            False\n",
    "    df_c['perfmeasuretau'] = df_c.apply(perfmeasure, axis = 1)   \n",
    "    \n",
    "    # Defining TN_count, FN_count, TP_count, FP_count\n",
    "    TN_ = np.count_nonzero(df_c['perfmeasuretau'] == 'TN')\n",
    "    FN_ = np.count_nonzero(df_c['perfmeasuretau'] == 'FN')\n",
    "    FP_ = np.count_nonzero(df_c['perfmeasuretau'] == 'FP')\n",
    "    TP_ = np.count_nonzero(df_c['perfmeasuretau'] == 'TP')\n",
    "   \n",
    "    A_vallist.append(500*FN_+100*FP_)\n",
    "    Tau_list.append(prb)\n",
    "\n",
    "BestTauforMinA = Tau_list[A_vallist.index(min(A_vallist))]\n",
    "\n",
    "print(\"The best value of tau(threshold) for lowest minimum value of A is = {}\".format(BestTauforMinA))"
   ]
  },
  {
   "cell_type": "markdown",
   "metadata": {},
   "source": [
    "#### Working with dataset df_d to generate confusion matrix, F1 score, Accuracy score, Area under the curve and ROC curve"
   ]
  },
  {
   "cell_type": "code",
   "execution_count": 26,
   "metadata": {
    "id": "sVOj-bF9AfCd"
   },
   "outputs": [
    {
     "data": {
      "text/html": [
       "<div>\n",
       "<style scoped>\n",
       "    .dataframe tbody tr th:only-of-type {\n",
       "        vertical-align: middle;\n",
       "    }\n",
       "\n",
       "    .dataframe tbody tr th {\n",
       "        vertical-align: top;\n",
       "    }\n",
       "\n",
       "    .dataframe thead th {\n",
       "        text-align: right;\n",
       "    }\n",
       "</style>\n",
       "<table border=\"1\" class=\"dataframe\">\n",
       "  <thead>\n",
       "    <tr style=\"text-align: right;\">\n",
       "      <th></th>\n",
       "      <th>y</th>\n",
       "      <th>pred</th>\n",
       "    </tr>\n",
       "  </thead>\n",
       "  <tbody>\n",
       "    <tr>\n",
       "      <th>0</th>\n",
       "      <td>101.0</td>\n",
       "      <td>100.0</td>\n",
       "    </tr>\n",
       "    <tr>\n",
       "      <th>1</th>\n",
       "      <td>120.0</td>\n",
       "      <td>100.0</td>\n",
       "    </tr>\n",
       "    <tr>\n",
       "      <th>2</th>\n",
       "      <td>131.0</td>\n",
       "      <td>113.0</td>\n",
       "    </tr>\n",
       "    <tr>\n",
       "      <th>3</th>\n",
       "      <td>164.0</td>\n",
       "      <td>125.0</td>\n",
       "    </tr>\n",
       "    <tr>\n",
       "      <th>4</th>\n",
       "      <td>154.0</td>\n",
       "      <td>152.0</td>\n",
       "    </tr>\n",
       "  </tbody>\n",
       "</table>\n",
       "</div>"
      ],
      "text/plain": [
       "       y   pred\n",
       "0  101.0  100.0\n",
       "1  120.0  100.0\n",
       "2  131.0  113.0\n",
       "3  164.0  125.0\n",
       "4  154.0  152.0"
      ]
     },
     "execution_count": 26,
     "metadata": {},
     "output_type": "execute_result"
    }
   ],
   "source": [
    "df_d=pd.read_csv(local+'d.csv')\n",
    "df_d.head()"
   ]
  },
  {
   "cell_type": "code",
   "execution_count": 27,
   "metadata": {
    "id": "uRhL1pheAfCe"
   },
   "outputs": [
    {
     "name": "stdout",
     "output_type": "stream",
     "text": [
      "Mean sq error value = 177.16569974554707\n",
      "\n",
      "The modified MAPE value = 0.1291202994009687\n",
      "\n",
      "Rsquared value is 0.9563582786990964\n"
     ]
    }
   ],
   "source": [
    "# 1. Computing  and printing mean squared error:\n",
    "df_d['error'] = df_d['y'] - df_d['pred']\n",
    "df_d['SStot'] = df_d['error']*df_d['error']\n",
    "\n",
    "mean_sq_error = (df_d['SStot'].sum())/df_d.shape[0]\n",
    "\n",
    "print(\"Mean sq error value = {}\".format(mean_sq_error))\n",
    "\n",
    "# 2. Computing Modified mean absolute percentage error\n",
    "merrornum = abs(df_d['y'] - df_d['pred'])\n",
    "merrorden = df_d['y']\n",
    "\n",
    "\n",
    "print(\"\\nThe modified MAPE value = {}\".format(np.sum(merrornum)/np.sum(merrorden)))\n",
    "\n",
    "# 3. Computing R^2 error:\n",
    "# Calculating the mean of the y(actual)\n",
    "y_mean = df_d['y'].mean()\n",
    "\n",
    "df_d['R_res'] = (df_d['y']-df_d['pred'])*(df_d['y']-df_d['pred'])\n",
    "\n",
    "df_d['R_tot'] = (df_d['y']-y_mean)*(df_d['y']-y_mean)\n",
    "\n",
    "R_sq = 1- (sum(np.array(df_d['R_res']))/sum(np.array(df_d['R_tot'])))\n",
    "\n",
    "print(\"\\nRsquared value is {}\".format(R_sq))"
   ]
  },
  {
   "cell_type": "markdown",
   "metadata": {},
   "source": [
    "# Results"
   ]
  },
  {
   "cell_type": "markdown",
   "metadata": {},
   "source": [
    "1. dataset a.csv: The dataset 'a.csv' is a toy dataset with zero true positives and zero true negatives. We only have data with false negatives and true negatives clearly indicating the imbalance: Our observations are as follows:\n",
    "    1. Accuracy is bad predictor of a model when there we have imbalanced datasets\n",
    "    2. F1 scores too can be a bad metric when we have a dataset with very high true positives in a imbalanced set. \n",
    "    3.  The ROC curve for this dataset is very low, showing that the ROC curve has the ability to catch the effects of imbalance i.e. robust to class imbalance. We also observe that the ROC curve gets affected by model's ability across classes. \n",
    "    \n",
    "    Overall, we understand the importance of choosing the right metric based on the data. \n",
    "\n",
    "2. dataset b.csv: is a more balanced dataset and thus we are able to observe better area under the curve unlike the previous dataset. \n",
    "\n",
    "3. dataset c.csv: we have been able to predict the optimum threshold i.e. 'proba' value to be considered, so as to yield highest AUC value given the condition that error should be minimum of the equation 500*FN+100*FP. This demonstrates our ability to set probability parameters given a condition. \n",
    "\n",
    "4. dataset d.csv: is a regression dataset and we have thus established our capacity to measure the metrics for a regression model. \n",
    "\n",
    "Overall, our results help us understand the metrics in a deeper way, establishing the nuances. We were able to set optimum threshold for probablity to consider if given a condition. Finally, we were able to determine and code appropriate regression metrics. "
   ]
  },
  {
   "cell_type": "markdown",
   "metadata": {},
   "source": []
  }
 ],
 "metadata": {
  "colab": {
   "collapsed_sections": [],
   "name": "5_Performance_metrics_Instructions.ipynb",
   "provenance": []
  },
  "kernelspec": {
   "display_name": "Python 3 (ipykernel)",
   "language": "python",
   "name": "python3"
  },
  "language_info": {
   "codemirror_mode": {
    "name": "ipython",
    "version": 3
   },
   "file_extension": ".py",
   "mimetype": "text/x-python",
   "name": "python",
   "nbconvert_exporter": "python",
   "pygments_lexer": "ipython3",
   "version": "3.9.6"
  }
 },
 "nbformat": 4,
 "nbformat_minor": 1
}
